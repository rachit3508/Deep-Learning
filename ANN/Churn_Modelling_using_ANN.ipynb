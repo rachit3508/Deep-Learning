{
 "cells": [
  {
   "cell_type": "markdown",
   "metadata": {
    "id": "AfwfBRQE448s"
   },
   "source": [
    "Import libraries"
   ]
  },
  {
   "cell_type": "code",
   "execution_count": 16,
   "metadata": {
    "id": "HbbftPfw47U4"
   },
   "outputs": [],
   "source": [
    "import numpy as np\n",
    "import pandas as pd\n",
    "import tensorflow\n",
    "from tensorflow.keras import Sequential\n",
    "from tensorflow.keras.layers import Dense,Dropout\n",
    "from sklearn.model_selection import train_test_split\n",
    "from sklearn.metrics import accuracy_score"
   ]
  },
  {
   "cell_type": "markdown",
   "metadata": {
    "id": "F82Kn7Q75MJ0"
   },
   "source": [
    "Get the data"
   ]
  },
  {
   "cell_type": "code",
   "execution_count": 2,
   "metadata": {
    "colab": {
     "base_uri": "https://localhost:8080/",
     "height": 206
    },
    "id": "1TIdIZ_J5Atn",
    "outputId": "1bf4db58-ca8e-4a1d-9591-75cfbae724c3"
   },
   "outputs": [
    {
     "data": {
      "text/html": [
       "<div>\n",
       "<style scoped>\n",
       "    .dataframe tbody tr th:only-of-type {\n",
       "        vertical-align: middle;\n",
       "    }\n",
       "\n",
       "    .dataframe tbody tr th {\n",
       "        vertical-align: top;\n",
       "    }\n",
       "\n",
       "    .dataframe thead th {\n",
       "        text-align: right;\n",
       "    }\n",
       "</style>\n",
       "<table border=\"1\" class=\"dataframe\">\n",
       "  <thead>\n",
       "    <tr style=\"text-align: right;\">\n",
       "      <th></th>\n",
       "      <th>RowNumber</th>\n",
       "      <th>CustomerId</th>\n",
       "      <th>Surname</th>\n",
       "      <th>CreditScore</th>\n",
       "      <th>Geography</th>\n",
       "      <th>Gender</th>\n",
       "      <th>Age</th>\n",
       "      <th>Tenure</th>\n",
       "      <th>Balance</th>\n",
       "      <th>NumOfProducts</th>\n",
       "      <th>HasCrCard</th>\n",
       "      <th>IsActiveMember</th>\n",
       "      <th>EstimatedSalary</th>\n",
       "      <th>Exited</th>\n",
       "    </tr>\n",
       "  </thead>\n",
       "  <tbody>\n",
       "    <tr>\n",
       "      <th>0</th>\n",
       "      <td>1</td>\n",
       "      <td>15634602</td>\n",
       "      <td>Hargrave</td>\n",
       "      <td>619</td>\n",
       "      <td>France</td>\n",
       "      <td>Female</td>\n",
       "      <td>42</td>\n",
       "      <td>2</td>\n",
       "      <td>0.00</td>\n",
       "      <td>1</td>\n",
       "      <td>1</td>\n",
       "      <td>1</td>\n",
       "      <td>101348.88</td>\n",
       "      <td>1</td>\n",
       "    </tr>\n",
       "    <tr>\n",
       "      <th>1</th>\n",
       "      <td>2</td>\n",
       "      <td>15647311</td>\n",
       "      <td>Hill</td>\n",
       "      <td>608</td>\n",
       "      <td>Spain</td>\n",
       "      <td>Female</td>\n",
       "      <td>41</td>\n",
       "      <td>1</td>\n",
       "      <td>83807.86</td>\n",
       "      <td>1</td>\n",
       "      <td>0</td>\n",
       "      <td>1</td>\n",
       "      <td>112542.58</td>\n",
       "      <td>0</td>\n",
       "    </tr>\n",
       "    <tr>\n",
       "      <th>2</th>\n",
       "      <td>3</td>\n",
       "      <td>15619304</td>\n",
       "      <td>Onio</td>\n",
       "      <td>502</td>\n",
       "      <td>France</td>\n",
       "      <td>Female</td>\n",
       "      <td>42</td>\n",
       "      <td>8</td>\n",
       "      <td>159660.80</td>\n",
       "      <td>3</td>\n",
       "      <td>1</td>\n",
       "      <td>0</td>\n",
       "      <td>113931.57</td>\n",
       "      <td>1</td>\n",
       "    </tr>\n",
       "    <tr>\n",
       "      <th>3</th>\n",
       "      <td>4</td>\n",
       "      <td>15701354</td>\n",
       "      <td>Boni</td>\n",
       "      <td>699</td>\n",
       "      <td>France</td>\n",
       "      <td>Female</td>\n",
       "      <td>39</td>\n",
       "      <td>1</td>\n",
       "      <td>0.00</td>\n",
       "      <td>2</td>\n",
       "      <td>0</td>\n",
       "      <td>0</td>\n",
       "      <td>93826.63</td>\n",
       "      <td>0</td>\n",
       "    </tr>\n",
       "    <tr>\n",
       "      <th>4</th>\n",
       "      <td>5</td>\n",
       "      <td>15737888</td>\n",
       "      <td>Mitchell</td>\n",
       "      <td>850</td>\n",
       "      <td>Spain</td>\n",
       "      <td>Female</td>\n",
       "      <td>43</td>\n",
       "      <td>2</td>\n",
       "      <td>125510.82</td>\n",
       "      <td>1</td>\n",
       "      <td>1</td>\n",
       "      <td>1</td>\n",
       "      <td>79084.10</td>\n",
       "      <td>0</td>\n",
       "    </tr>\n",
       "  </tbody>\n",
       "</table>\n",
       "</div>"
      ],
      "text/plain": [
       "   RowNumber  CustomerId   Surname  CreditScore Geography  Gender  Age  \\\n",
       "0          1    15634602  Hargrave          619    France  Female   42   \n",
       "1          2    15647311      Hill          608     Spain  Female   41   \n",
       "2          3    15619304      Onio          502    France  Female   42   \n",
       "3          4    15701354      Boni          699    France  Female   39   \n",
       "4          5    15737888  Mitchell          850     Spain  Female   43   \n",
       "\n",
       "   Tenure    Balance  NumOfProducts  HasCrCard  IsActiveMember  \\\n",
       "0       2       0.00              1          1               1   \n",
       "1       1   83807.86              1          0               1   \n",
       "2       8  159660.80              3          1               0   \n",
       "3       1       0.00              2          0               0   \n",
       "4       2  125510.82              1          1               1   \n",
       "\n",
       "   EstimatedSalary  Exited  \n",
       "0        101348.88       1  \n",
       "1        112542.58       0  \n",
       "2        113931.57       1  \n",
       "3         93826.63       0  \n",
       "4         79084.10       0  "
      ]
     },
     "execution_count": 2,
     "metadata": {},
     "output_type": "execute_result"
    }
   ],
   "source": [
    "data = pd.read_csv('Churn_Modelling.csv')\n",
    "data.head()"
   ]
  },
  {
   "cell_type": "markdown",
   "metadata": {
    "id": "6gNRi_Ff5rgC"
   },
   "source": [
    "Remove unwanted columns"
   ]
  },
  {
   "cell_type": "code",
   "execution_count": 3,
   "metadata": {
    "id": "of2dLAVK5jhg"
   },
   "outputs": [],
   "source": [
    "data.drop(['RowNumber','CustomerId','Surname'],axis=1,inplace=True)"
   ]
  },
  {
   "cell_type": "markdown",
   "metadata": {
    "id": "IkQ2vbhE5-1F"
   },
   "source": [
    "Checking whether column is deleted or not"
   ]
  },
  {
   "cell_type": "code",
   "execution_count": 4,
   "metadata": {
    "colab": {
     "base_uri": "https://localhost:8080/",
     "height": 206
    },
    "id": "-h1sjC9D6B_C",
    "outputId": "42b29db2-0f1a-46bb-94d0-8398ea278efd"
   },
   "outputs": [
    {
     "data": {
      "text/html": [
       "<div>\n",
       "<style scoped>\n",
       "    .dataframe tbody tr th:only-of-type {\n",
       "        vertical-align: middle;\n",
       "    }\n",
       "\n",
       "    .dataframe tbody tr th {\n",
       "        vertical-align: top;\n",
       "    }\n",
       "\n",
       "    .dataframe thead th {\n",
       "        text-align: right;\n",
       "    }\n",
       "</style>\n",
       "<table border=\"1\" class=\"dataframe\">\n",
       "  <thead>\n",
       "    <tr style=\"text-align: right;\">\n",
       "      <th></th>\n",
       "      <th>CreditScore</th>\n",
       "      <th>Geography</th>\n",
       "      <th>Gender</th>\n",
       "      <th>Age</th>\n",
       "      <th>Tenure</th>\n",
       "      <th>Balance</th>\n",
       "      <th>NumOfProducts</th>\n",
       "      <th>HasCrCard</th>\n",
       "      <th>IsActiveMember</th>\n",
       "      <th>EstimatedSalary</th>\n",
       "      <th>Exited</th>\n",
       "    </tr>\n",
       "  </thead>\n",
       "  <tbody>\n",
       "    <tr>\n",
       "      <th>0</th>\n",
       "      <td>619</td>\n",
       "      <td>France</td>\n",
       "      <td>Female</td>\n",
       "      <td>42</td>\n",
       "      <td>2</td>\n",
       "      <td>0.00</td>\n",
       "      <td>1</td>\n",
       "      <td>1</td>\n",
       "      <td>1</td>\n",
       "      <td>101348.88</td>\n",
       "      <td>1</td>\n",
       "    </tr>\n",
       "    <tr>\n",
       "      <th>1</th>\n",
       "      <td>608</td>\n",
       "      <td>Spain</td>\n",
       "      <td>Female</td>\n",
       "      <td>41</td>\n",
       "      <td>1</td>\n",
       "      <td>83807.86</td>\n",
       "      <td>1</td>\n",
       "      <td>0</td>\n",
       "      <td>1</td>\n",
       "      <td>112542.58</td>\n",
       "      <td>0</td>\n",
       "    </tr>\n",
       "    <tr>\n",
       "      <th>2</th>\n",
       "      <td>502</td>\n",
       "      <td>France</td>\n",
       "      <td>Female</td>\n",
       "      <td>42</td>\n",
       "      <td>8</td>\n",
       "      <td>159660.80</td>\n",
       "      <td>3</td>\n",
       "      <td>1</td>\n",
       "      <td>0</td>\n",
       "      <td>113931.57</td>\n",
       "      <td>1</td>\n",
       "    </tr>\n",
       "    <tr>\n",
       "      <th>3</th>\n",
       "      <td>699</td>\n",
       "      <td>France</td>\n",
       "      <td>Female</td>\n",
       "      <td>39</td>\n",
       "      <td>1</td>\n",
       "      <td>0.00</td>\n",
       "      <td>2</td>\n",
       "      <td>0</td>\n",
       "      <td>0</td>\n",
       "      <td>93826.63</td>\n",
       "      <td>0</td>\n",
       "    </tr>\n",
       "    <tr>\n",
       "      <th>4</th>\n",
       "      <td>850</td>\n",
       "      <td>Spain</td>\n",
       "      <td>Female</td>\n",
       "      <td>43</td>\n",
       "      <td>2</td>\n",
       "      <td>125510.82</td>\n",
       "      <td>1</td>\n",
       "      <td>1</td>\n",
       "      <td>1</td>\n",
       "      <td>79084.10</td>\n",
       "      <td>0</td>\n",
       "    </tr>\n",
       "  </tbody>\n",
       "</table>\n",
       "</div>"
      ],
      "text/plain": [
       "   CreditScore Geography  Gender  Age  Tenure    Balance  NumOfProducts  \\\n",
       "0          619    France  Female   42       2       0.00              1   \n",
       "1          608     Spain  Female   41       1   83807.86              1   \n",
       "2          502    France  Female   42       8  159660.80              3   \n",
       "3          699    France  Female   39       1       0.00              2   \n",
       "4          850     Spain  Female   43       2  125510.82              1   \n",
       "\n",
       "   HasCrCard  IsActiveMember  EstimatedSalary  Exited  \n",
       "0          1               1        101348.88       1  \n",
       "1          0               1        112542.58       0  \n",
       "2          1               0        113931.57       1  \n",
       "3          0               0         93826.63       0  \n",
       "4          1               1         79084.10       0  "
      ]
     },
     "execution_count": 4,
     "metadata": {},
     "output_type": "execute_result"
    }
   ],
   "source": [
    "data.head()"
   ]
  },
  {
   "cell_type": "markdown",
   "metadata": {
    "id": "MnTIlqZn6NMz"
   },
   "source": [
    "Checking Missing values"
   ]
  },
  {
   "cell_type": "code",
   "execution_count": 5,
   "metadata": {
    "colab": {
     "base_uri": "https://localhost:8080/"
    },
    "id": "RVJdGDFa6D8X",
    "outputId": "87fe2447-fcc3-4ba6-e353-6f2d3e07aeb2"
   },
   "outputs": [
    {
     "data": {
      "text/plain": [
       "CreditScore        0.0\n",
       "Geography          0.0\n",
       "Gender             0.0\n",
       "Age                0.0\n",
       "Tenure             0.0\n",
       "Balance            0.0\n",
       "NumOfProducts      0.0\n",
       "HasCrCard          0.0\n",
       "IsActiveMember     0.0\n",
       "EstimatedSalary    0.0\n",
       "Exited             0.0\n",
       "dtype: float64"
      ]
     },
     "execution_count": 5,
     "metadata": {},
     "output_type": "execute_result"
    }
   ],
   "source": [
    "data.isnull().sum()/len(data)*100"
   ]
  },
  {
   "cell_type": "markdown",
   "metadata": {
    "id": "HP2SFo1O6ZMn"
   },
   "source": [
    "Splitting the features and target variable"
   ]
  },
  {
   "cell_type": "code",
   "execution_count": 6,
   "metadata": {
    "id": "AVSzicXE6eZD"
   },
   "outputs": [],
   "source": [
    "x = data.drop(['Exited'],axis=1)\n",
    "y = data[['Exited']]"
   ]
  },
  {
   "cell_type": "code",
   "execution_count": 7,
   "metadata": {
    "colab": {
     "base_uri": "https://localhost:8080/",
     "height": 206
    },
    "id": "YXdthaYy6tO_",
    "outputId": "9e5d776d-b686-4584-82a7-fdd57019c7ba"
   },
   "outputs": [
    {
     "data": {
      "text/html": [
       "<div>\n",
       "<style scoped>\n",
       "    .dataframe tbody tr th:only-of-type {\n",
       "        vertical-align: middle;\n",
       "    }\n",
       "\n",
       "    .dataframe tbody tr th {\n",
       "        vertical-align: top;\n",
       "    }\n",
       "\n",
       "    .dataframe thead th {\n",
       "        text-align: right;\n",
       "    }\n",
       "</style>\n",
       "<table border=\"1\" class=\"dataframe\">\n",
       "  <thead>\n",
       "    <tr style=\"text-align: right;\">\n",
       "      <th></th>\n",
       "      <th>CreditScore</th>\n",
       "      <th>Geography</th>\n",
       "      <th>Gender</th>\n",
       "      <th>Age</th>\n",
       "      <th>Tenure</th>\n",
       "      <th>Balance</th>\n",
       "      <th>NumOfProducts</th>\n",
       "      <th>HasCrCard</th>\n",
       "      <th>IsActiveMember</th>\n",
       "      <th>EstimatedSalary</th>\n",
       "    </tr>\n",
       "  </thead>\n",
       "  <tbody>\n",
       "    <tr>\n",
       "      <th>0</th>\n",
       "      <td>619</td>\n",
       "      <td>France</td>\n",
       "      <td>Female</td>\n",
       "      <td>42</td>\n",
       "      <td>2</td>\n",
       "      <td>0.00</td>\n",
       "      <td>1</td>\n",
       "      <td>1</td>\n",
       "      <td>1</td>\n",
       "      <td>101348.88</td>\n",
       "    </tr>\n",
       "    <tr>\n",
       "      <th>1</th>\n",
       "      <td>608</td>\n",
       "      <td>Spain</td>\n",
       "      <td>Female</td>\n",
       "      <td>41</td>\n",
       "      <td>1</td>\n",
       "      <td>83807.86</td>\n",
       "      <td>1</td>\n",
       "      <td>0</td>\n",
       "      <td>1</td>\n",
       "      <td>112542.58</td>\n",
       "    </tr>\n",
       "    <tr>\n",
       "      <th>2</th>\n",
       "      <td>502</td>\n",
       "      <td>France</td>\n",
       "      <td>Female</td>\n",
       "      <td>42</td>\n",
       "      <td>8</td>\n",
       "      <td>159660.80</td>\n",
       "      <td>3</td>\n",
       "      <td>1</td>\n",
       "      <td>0</td>\n",
       "      <td>113931.57</td>\n",
       "    </tr>\n",
       "    <tr>\n",
       "      <th>3</th>\n",
       "      <td>699</td>\n",
       "      <td>France</td>\n",
       "      <td>Female</td>\n",
       "      <td>39</td>\n",
       "      <td>1</td>\n",
       "      <td>0.00</td>\n",
       "      <td>2</td>\n",
       "      <td>0</td>\n",
       "      <td>0</td>\n",
       "      <td>93826.63</td>\n",
       "    </tr>\n",
       "    <tr>\n",
       "      <th>4</th>\n",
       "      <td>850</td>\n",
       "      <td>Spain</td>\n",
       "      <td>Female</td>\n",
       "      <td>43</td>\n",
       "      <td>2</td>\n",
       "      <td>125510.82</td>\n",
       "      <td>1</td>\n",
       "      <td>1</td>\n",
       "      <td>1</td>\n",
       "      <td>79084.10</td>\n",
       "    </tr>\n",
       "  </tbody>\n",
       "</table>\n",
       "</div>"
      ],
      "text/plain": [
       "   CreditScore Geography  Gender  Age  Tenure    Balance  NumOfProducts  \\\n",
       "0          619    France  Female   42       2       0.00              1   \n",
       "1          608     Spain  Female   41       1   83807.86              1   \n",
       "2          502    France  Female   42       8  159660.80              3   \n",
       "3          699    France  Female   39       1       0.00              2   \n",
       "4          850     Spain  Female   43       2  125510.82              1   \n",
       "\n",
       "   HasCrCard  IsActiveMember  EstimatedSalary  \n",
       "0          1               1        101348.88  \n",
       "1          0               1        112542.58  \n",
       "2          1               0        113931.57  \n",
       "3          0               0         93826.63  \n",
       "4          1               1         79084.10  "
      ]
     },
     "execution_count": 7,
     "metadata": {},
     "output_type": "execute_result"
    }
   ],
   "source": [
    "x.head()"
   ]
  },
  {
   "cell_type": "markdown",
   "metadata": {
    "id": "ZmvHhTeN66Qz"
   },
   "source": [
    "Converting 'Geography' and 'Gender' column in numerical form"
   ]
  },
  {
   "cell_type": "code",
   "execution_count": 8,
   "metadata": {
    "id": "JIeSm9GA6uqa"
   },
   "outputs": [],
   "source": [
    "geo = pd.get_dummies(x['Geography'],drop_first=True)\n",
    "gender = pd.get_dummies(x['Gender'],drop_first=True)\n",
    "x = pd.concat([x,geo,gender],axis=1)\n",
    "x.drop(['Geography','Gender'],axis=1,inplace=True)"
   ]
  },
  {
   "cell_type": "code",
   "execution_count": 9,
   "metadata": {
    "colab": {
     "base_uri": "https://localhost:8080/",
     "height": 206
    },
    "id": "4g7RXjmD71Ic",
    "outputId": "ed5cc2fb-402e-47eb-d2c6-191343550280"
   },
   "outputs": [
    {
     "data": {
      "text/html": [
       "<div>\n",
       "<style scoped>\n",
       "    .dataframe tbody tr th:only-of-type {\n",
       "        vertical-align: middle;\n",
       "    }\n",
       "\n",
       "    .dataframe tbody tr th {\n",
       "        vertical-align: top;\n",
       "    }\n",
       "\n",
       "    .dataframe thead th {\n",
       "        text-align: right;\n",
       "    }\n",
       "</style>\n",
       "<table border=\"1\" class=\"dataframe\">\n",
       "  <thead>\n",
       "    <tr style=\"text-align: right;\">\n",
       "      <th></th>\n",
       "      <th>CreditScore</th>\n",
       "      <th>Age</th>\n",
       "      <th>Tenure</th>\n",
       "      <th>Balance</th>\n",
       "      <th>NumOfProducts</th>\n",
       "      <th>HasCrCard</th>\n",
       "      <th>IsActiveMember</th>\n",
       "      <th>EstimatedSalary</th>\n",
       "      <th>Germany</th>\n",
       "      <th>Spain</th>\n",
       "      <th>Male</th>\n",
       "    </tr>\n",
       "  </thead>\n",
       "  <tbody>\n",
       "    <tr>\n",
       "      <th>0</th>\n",
       "      <td>619</td>\n",
       "      <td>42</td>\n",
       "      <td>2</td>\n",
       "      <td>0.00</td>\n",
       "      <td>1</td>\n",
       "      <td>1</td>\n",
       "      <td>1</td>\n",
       "      <td>101348.88</td>\n",
       "      <td>0</td>\n",
       "      <td>0</td>\n",
       "      <td>0</td>\n",
       "    </tr>\n",
       "    <tr>\n",
       "      <th>1</th>\n",
       "      <td>608</td>\n",
       "      <td>41</td>\n",
       "      <td>1</td>\n",
       "      <td>83807.86</td>\n",
       "      <td>1</td>\n",
       "      <td>0</td>\n",
       "      <td>1</td>\n",
       "      <td>112542.58</td>\n",
       "      <td>0</td>\n",
       "      <td>1</td>\n",
       "      <td>0</td>\n",
       "    </tr>\n",
       "    <tr>\n",
       "      <th>2</th>\n",
       "      <td>502</td>\n",
       "      <td>42</td>\n",
       "      <td>8</td>\n",
       "      <td>159660.80</td>\n",
       "      <td>3</td>\n",
       "      <td>1</td>\n",
       "      <td>0</td>\n",
       "      <td>113931.57</td>\n",
       "      <td>0</td>\n",
       "      <td>0</td>\n",
       "      <td>0</td>\n",
       "    </tr>\n",
       "    <tr>\n",
       "      <th>3</th>\n",
       "      <td>699</td>\n",
       "      <td>39</td>\n",
       "      <td>1</td>\n",
       "      <td>0.00</td>\n",
       "      <td>2</td>\n",
       "      <td>0</td>\n",
       "      <td>0</td>\n",
       "      <td>93826.63</td>\n",
       "      <td>0</td>\n",
       "      <td>0</td>\n",
       "      <td>0</td>\n",
       "    </tr>\n",
       "    <tr>\n",
       "      <th>4</th>\n",
       "      <td>850</td>\n",
       "      <td>43</td>\n",
       "      <td>2</td>\n",
       "      <td>125510.82</td>\n",
       "      <td>1</td>\n",
       "      <td>1</td>\n",
       "      <td>1</td>\n",
       "      <td>79084.10</td>\n",
       "      <td>0</td>\n",
       "      <td>1</td>\n",
       "      <td>0</td>\n",
       "    </tr>\n",
       "  </tbody>\n",
       "</table>\n",
       "</div>"
      ],
      "text/plain": [
       "   CreditScore  Age  Tenure    Balance  NumOfProducts  HasCrCard  \\\n",
       "0          619   42       2       0.00              1          1   \n",
       "1          608   41       1   83807.86              1          0   \n",
       "2          502   42       8  159660.80              3          1   \n",
       "3          699   39       1       0.00              2          0   \n",
       "4          850   43       2  125510.82              1          1   \n",
       "\n",
       "   IsActiveMember  EstimatedSalary  Germany  Spain  Male  \n",
       "0               1        101348.88        0      0     0  \n",
       "1               1        112542.58        0      1     0  \n",
       "2               0        113931.57        0      0     0  \n",
       "3               0         93826.63        0      0     0  \n",
       "4               1         79084.10        0      1     0  "
      ]
     },
     "execution_count": 9,
     "metadata": {},
     "output_type": "execute_result"
    }
   ],
   "source": [
    "x.head()"
   ]
  },
  {
   "cell_type": "code",
   "execution_count": 10,
   "metadata": {
    "colab": {
     "base_uri": "https://localhost:8080/"
    },
    "id": "FrTToHxxDbtq",
    "outputId": "9ea36d1b-5396-4b0b-c938-a26ebe014b3b"
   },
   "outputs": [
    {
     "data": {
      "text/plain": [
       "(10000, 11)"
      ]
     },
     "execution_count": 10,
     "metadata": {},
     "output_type": "execute_result"
    }
   ],
   "source": [
    "x.shape"
   ]
  },
  {
   "cell_type": "markdown",
   "metadata": {
    "id": "A5oj2mTm_-XM"
   },
   "source": [
    "train test split"
   ]
  },
  {
   "cell_type": "code",
   "execution_count": 11,
   "metadata": {
    "id": "NzBhq86jAEOc"
   },
   "outputs": [],
   "source": [
    "x_train,x_test,y_train,y_test = train_test_split(x,y,test_size=0.2,random_state=42)"
   ]
  },
  {
   "cell_type": "markdown",
   "metadata": {
    "id": "1d1xWiU-8C8i"
   },
   "source": [
    "Creating ANN"
   ]
  },
  {
   "cell_type": "code",
   "execution_count": 12,
   "metadata": {
    "id": "dNQY-Imz72wQ"
   },
   "outputs": [],
   "source": [
    "model = Sequential()"
   ]
  },
  {
   "cell_type": "code",
   "execution_count": 17,
   "metadata": {
    "id": "mpCbuKC48fS0"
   },
   "outputs": [],
   "source": [
    "model.add(Dense(100,activation='relu',kernel_initializer='he_uniform',input_shape=(11,)))\n",
    "model.add(Dropout(0.2))\n",
    "model.add(Dense(50,activation='sigmoid'))\n",
    "model.add(Dropout(0.5))\n",
    "model.add(Dense(25,activation='relu',kernel_initializer='he_uniform'))\n",
    "model.add(Dropout(0.7))\n",
    "model.add(Dense(1,activation='sigmoid'))"
   ]
  },
  {
   "cell_type": "code",
   "execution_count": 18,
   "metadata": {
    "colab": {
     "base_uri": "https://localhost:8080/"
    },
    "id": "0b3Z54u897Le",
    "outputId": "00b5474f-7ee2-4f0e-b17a-5f0f38076ea1"
   },
   "outputs": [
    {
     "name": "stdout",
     "output_type": "stream",
     "text": [
      "Model: \"sequential\"\n",
      "_________________________________________________________________\n",
      " Layer (type)                Output Shape              Param #   \n",
      "=================================================================\n",
      " dense (Dense)               (None, 100)               1200      \n",
      "                                                                 \n",
      " dropout (Dropout)           (None, 100)               0         \n",
      "                                                                 \n",
      " dense_1 (Dense)             (None, 50)                5050      \n",
      "                                                                 \n",
      " dropout_1 (Dropout)         (None, 50)                0         \n",
      "                                                                 \n",
      " dense_2 (Dense)             (None, 25)                1275      \n",
      "                                                                 \n",
      " dropout_2 (Dropout)         (None, 25)                0         \n",
      "                                                                 \n",
      " dense_3 (Dense)             (None, 1)                 26        \n",
      "                                                                 \n",
      "=================================================================\n",
      "Total params: 7,551\n",
      "Trainable params: 7,551\n",
      "Non-trainable params: 0\n",
      "_________________________________________________________________\n"
     ]
    }
   ],
   "source": [
    "model.summary()"
   ]
  },
  {
   "cell_type": "markdown",
   "metadata": {
    "id": "AvabMJv5-8PC"
   },
   "source": [
    "Compile the model"
   ]
  },
  {
   "cell_type": "code",
   "execution_count": 19,
   "metadata": {
    "id": "Sv3W87X9-6Ct"
   },
   "outputs": [],
   "source": [
    "model.compile(optimizer='SGD',loss='binary_crossentropy',metrics='accuracy')"
   ]
  },
  {
   "cell_type": "markdown",
   "metadata": {
    "id": "NmAORuik_zPn"
   },
   "source": [
    "Fit the model"
   ]
  },
  {
   "cell_type": "code",
   "execution_count": 20,
   "metadata": {
    "colab": {
     "base_uri": "https://localhost:8080/"
    },
    "id": "IaqB0qYJ_0qs",
    "outputId": "4d2119f4-3287-4fb4-92c1-57f1339d09a5"
   },
   "outputs": [
    {
     "name": "stdout",
     "output_type": "stream",
     "text": [
      "Epoch 1/50\n",
      "560/560 [==============================] - 2s 2ms/step - loss: 0.6125 - accuracy: 0.7407 - val_loss: 0.5152 - val_accuracy: 0.7887\n",
      "Epoch 2/50\n",
      "560/560 [==============================] - 1s 1ms/step - loss: 0.5314 - accuracy: 0.7941 - val_loss: 0.5235 - val_accuracy: 0.7887\n",
      "Epoch 3/50\n",
      "560/560 [==============================] - 1s 2ms/step - loss: 0.5195 - accuracy: 0.7961 - val_loss: 0.5154 - val_accuracy: 0.7887\n",
      "Epoch 4/50\n",
      "560/560 [==============================] - 1s 1ms/step - loss: 0.5158 - accuracy: 0.7966 - val_loss: 0.5113 - val_accuracy: 0.7887\n",
      "Epoch 5/50\n",
      "560/560 [==============================] - 1s 2ms/step - loss: 0.5116 - accuracy: 0.7970 - val_loss: 0.5138 - val_accuracy: 0.7887\n",
      "Epoch 6/50\n",
      "560/560 [==============================] - 1s 2ms/step - loss: 0.5094 - accuracy: 0.7970 - val_loss: 0.5137 - val_accuracy: 0.7887\n",
      "Epoch 7/50\n",
      "560/560 [==============================] - 1s 2ms/step - loss: 0.5074 - accuracy: 0.7970 - val_loss: 0.5125 - val_accuracy: 0.7887\n",
      "Epoch 8/50\n",
      "560/560 [==============================] - 1s 2ms/step - loss: 0.5085 - accuracy: 0.7970 - val_loss: 0.5138 - val_accuracy: 0.7887\n",
      "Epoch 9/50\n",
      "560/560 [==============================] - 1s 1ms/step - loss: 0.5067 - accuracy: 0.7970 - val_loss: 0.5130 - val_accuracy: 0.7887\n",
      "Epoch 10/50\n",
      "560/560 [==============================] - 1s 2ms/step - loss: 0.5083 - accuracy: 0.7970 - val_loss: 0.5138 - val_accuracy: 0.7887\n",
      "Epoch 11/50\n",
      "560/560 [==============================] - 1s 1ms/step - loss: 0.5048 - accuracy: 0.7970 - val_loss: 0.5128 - val_accuracy: 0.7887\n",
      "Epoch 12/50\n",
      "560/560 [==============================] - 1s 1ms/step - loss: 0.5069 - accuracy: 0.7970 - val_loss: 0.5145 - val_accuracy: 0.7887\n",
      "Epoch 13/50\n",
      "560/560 [==============================] - 1s 2ms/step - loss: 0.5061 - accuracy: 0.7970 - val_loss: 0.5142 - val_accuracy: 0.7887\n",
      "Epoch 14/50\n",
      "560/560 [==============================] - 1s 2ms/step - loss: 0.5064 - accuracy: 0.7970 - val_loss: 0.5146 - val_accuracy: 0.7887\n",
      "Epoch 15/50\n",
      "560/560 [==============================] - 1s 2ms/step - loss: 0.5069 - accuracy: 0.7970 - val_loss: 0.5153 - val_accuracy: 0.7887\n",
      "Epoch 16/50\n",
      "560/560 [==============================] - 1s 2ms/step - loss: 0.5064 - accuracy: 0.7970 - val_loss: 0.5143 - val_accuracy: 0.7887\n",
      "Epoch 17/50\n",
      "560/560 [==============================] - 1s 2ms/step - loss: 0.5064 - accuracy: 0.7970 - val_loss: 0.5152 - val_accuracy: 0.7887\n",
      "Epoch 18/50\n",
      "560/560 [==============================] - 1s 2ms/step - loss: 0.5059 - accuracy: 0.7970 - val_loss: 0.5152 - val_accuracy: 0.7887\n",
      "Epoch 19/50\n",
      "560/560 [==============================] - 1s 2ms/step - loss: 0.5073 - accuracy: 0.7970 - val_loss: 0.5154 - val_accuracy: 0.7887\n",
      "Epoch 20/50\n",
      "560/560 [==============================] - 1s 2ms/step - loss: 0.5067 - accuracy: 0.7970 - val_loss: 0.5154 - val_accuracy: 0.7887\n",
      "Epoch 21/50\n",
      "560/560 [==============================] - 1s 1ms/step - loss: 0.5060 - accuracy: 0.7970 - val_loss: 0.5156 - val_accuracy: 0.7887\n",
      "Epoch 22/50\n",
      "560/560 [==============================] - 1s 2ms/step - loss: 0.5066 - accuracy: 0.7970 - val_loss: 0.5154 - val_accuracy: 0.7887\n",
      "Epoch 23/50\n",
      "560/560 [==============================] - 1s 1ms/step - loss: 0.5060 - accuracy: 0.7970 - val_loss: 0.5154 - val_accuracy: 0.7887\n",
      "Epoch 24/50\n",
      "560/560 [==============================] - 1s 2ms/step - loss: 0.5046 - accuracy: 0.7970 - val_loss: 0.5152 - val_accuracy: 0.7887\n",
      "Epoch 25/50\n",
      "560/560 [==============================] - 1s 2ms/step - loss: 0.5061 - accuracy: 0.7970 - val_loss: 0.5157 - val_accuracy: 0.7887\n",
      "Epoch 26/50\n",
      "560/560 [==============================] - 1s 1ms/step - loss: 0.5044 - accuracy: 0.7970 - val_loss: 0.5154 - val_accuracy: 0.7887\n",
      "Epoch 27/50\n",
      "560/560 [==============================] - 1s 2ms/step - loss: 0.5055 - accuracy: 0.7970 - val_loss: 0.5151 - val_accuracy: 0.7887\n",
      "Epoch 28/50\n",
      "560/560 [==============================] - 1s 2ms/step - loss: 0.5048 - accuracy: 0.7970 - val_loss: 0.5143 - val_accuracy: 0.7887\n",
      "Epoch 29/50\n",
      "560/560 [==============================] - 1s 1ms/step - loss: 0.5057 - accuracy: 0.7970 - val_loss: 0.5151 - val_accuracy: 0.7887\n",
      "Epoch 30/50\n",
      "560/560 [==============================] - 1s 1ms/step - loss: 0.5061 - accuracy: 0.7966 - val_loss: 0.5154 - val_accuracy: 0.7887\n",
      "Epoch 31/50\n",
      "560/560 [==============================] - 1s 2ms/step - loss: 0.5054 - accuracy: 0.7970 - val_loss: 0.5152 - val_accuracy: 0.7887\n",
      "Epoch 32/50\n",
      "560/560 [==============================] - 1s 2ms/step - loss: 0.5068 - accuracy: 0.7970 - val_loss: 0.5158 - val_accuracy: 0.7887\n",
      "Epoch 33/50\n",
      "560/560 [==============================] - 1s 2ms/step - loss: 0.5066 - accuracy: 0.7970 - val_loss: 0.5158 - val_accuracy: 0.7887\n",
      "Epoch 34/50\n",
      "560/560 [==============================] - 1s 2ms/step - loss: 0.5065 - accuracy: 0.7970 - val_loss: 0.5155 - val_accuracy: 0.7887\n",
      "Epoch 35/50\n",
      "560/560 [==============================] - 1s 2ms/step - loss: 0.5054 - accuracy: 0.7970 - val_loss: 0.5151 - val_accuracy: 0.7887\n",
      "Epoch 36/50\n",
      "560/560 [==============================] - 1s 1ms/step - loss: 0.5060 - accuracy: 0.7970 - val_loss: 0.5166 - val_accuracy: 0.7887\n",
      "Epoch 37/50\n",
      "560/560 [==============================] - 1s 1ms/step - loss: 0.5058 - accuracy: 0.7970 - val_loss: 0.5155 - val_accuracy: 0.7887\n",
      "Epoch 38/50\n",
      "560/560 [==============================] - 1s 2ms/step - loss: 0.5059 - accuracy: 0.7970 - val_loss: 0.5165 - val_accuracy: 0.7887\n",
      "Epoch 39/50\n",
      "560/560 [==============================] - 1s 1ms/step - loss: 0.5057 - accuracy: 0.7970 - val_loss: 0.5159 - val_accuracy: 0.7887\n",
      "Epoch 40/50\n",
      "560/560 [==============================] - 1s 1ms/step - loss: 0.5056 - accuracy: 0.7970 - val_loss: 0.5156 - val_accuracy: 0.7887\n",
      "Epoch 41/50\n",
      "560/560 [==============================] - 1s 1ms/step - loss: 0.5063 - accuracy: 0.7970 - val_loss: 0.5159 - val_accuracy: 0.7887\n",
      "Epoch 42/50\n",
      "560/560 [==============================] - 1s 1ms/step - loss: 0.5055 - accuracy: 0.7970 - val_loss: 0.5154 - val_accuracy: 0.7887\n",
      "Epoch 43/50\n",
      "560/560 [==============================] - 1s 2ms/step - loss: 0.5059 - accuracy: 0.7970 - val_loss: 0.5154 - val_accuracy: 0.7887\n",
      "Epoch 44/50\n",
      "560/560 [==============================] - 1s 1ms/step - loss: 0.5064 - accuracy: 0.7970 - val_loss: 0.5153 - val_accuracy: 0.7887\n",
      "Epoch 45/50\n",
      "560/560 [==============================] - 1s 1ms/step - loss: 0.5056 - accuracy: 0.7970 - val_loss: 0.5154 - val_accuracy: 0.7887\n",
      "Epoch 46/50\n",
      "560/560 [==============================] - 1s 2ms/step - loss: 0.5052 - accuracy: 0.7970 - val_loss: 0.5152 - val_accuracy: 0.7887\n",
      "Epoch 47/50\n",
      "560/560 [==============================] - 1s 1ms/step - loss: 0.5054 - accuracy: 0.7970 - val_loss: 0.5156 - val_accuracy: 0.7887\n",
      "Epoch 48/50\n",
      "560/560 [==============================] - 1s 2ms/step - loss: 0.5060 - accuracy: 0.7970 - val_loss: 0.5157 - val_accuracy: 0.7887\n",
      "Epoch 49/50\n",
      "560/560 [==============================] - 1s 1ms/step - loss: 0.5055 - accuracy: 0.7970 - val_loss: 0.5158 - val_accuracy: 0.7887\n",
      "Epoch 50/50\n",
      "560/560 [==============================] - 1s 2ms/step - loss: 0.5062 - accuracy: 0.7970 - val_loss: 0.5156 - val_accuracy: 0.7887\n"
     ]
    },
    {
     "data": {
      "text/plain": [
       "<keras.callbacks.History at 0x1ed8628e390>"
      ]
     },
     "execution_count": 20,
     "metadata": {},
     "output_type": "execute_result"
    }
   ],
   "source": [
    "model.fit(x_train,y_train,batch_size=10,epochs=50,validation_split=0.30)"
   ]
  },
  {
   "cell_type": "markdown",
   "metadata": {
    "id": "Y6auutukIHE1"
   },
   "source": [
    "Doing prediction"
   ]
  },
  {
   "cell_type": "code",
   "execution_count": 21,
   "metadata": {
    "id": "mtwWJ9WLCDi_"
   },
   "outputs": [],
   "source": [
    "y_predict= model.predict(x_test)"
   ]
  },
  {
   "cell_type": "code",
   "execution_count": 22,
   "metadata": {
    "id": "t8VqPqhVIdPP"
   },
   "outputs": [],
   "source": [
    "y_predict = np.where(y_predict>0.5,1,0)"
   ]
  },
  {
   "cell_type": "code",
   "execution_count": 23,
   "metadata": {
    "colab": {
     "base_uri": "https://localhost:8080/"
    },
    "id": "2uWfdCS2IgC_",
    "outputId": "ce3171ba-fea7-440b-a433-98fd21dadbfe"
   },
   "outputs": [
    {
     "data": {
      "text/plain": [
       "array([[0],\n",
       "       [0],\n",
       "       [0],\n",
       "       ...,\n",
       "       [0],\n",
       "       [0],\n",
       "       [0]])"
      ]
     },
     "execution_count": 23,
     "metadata": {},
     "output_type": "execute_result"
    }
   ],
   "source": [
    "y_predict "
   ]
  },
  {
   "cell_type": "markdown",
   "metadata": {
    "id": "teBBjCQMJAsw"
   },
   "source": [
    "Checking model accuracy"
   ]
  },
  {
   "cell_type": "code",
   "execution_count": 24,
   "metadata": {
    "colab": {
     "base_uri": "https://localhost:8080/"
    },
    "id": "tZX86Mo-I-Wd",
    "outputId": "0447e69e-59f0-4824-be85-750d8fd51162"
   },
   "outputs": [
    {
     "name": "stdout",
     "output_type": "stream",
     "text": [
      "0.8035\n"
     ]
    }
   ],
   "source": [
    "print(accuracy_score(y_test,y_predict))"
   ]
  },
  {
   "cell_type": "markdown",
   "metadata": {
    "id": "37zii0glPWR4"
   },
   "source": [
    "Saving the model"
   ]
  },
  {
   "cell_type": "code",
   "execution_count": 25,
   "metadata": {
    "id": "jUpv4aXxJO41"
   },
   "outputs": [],
   "source": [
    "model.save('Churn_modelling.h5')"
   ]
  },
  {
   "cell_type": "markdown",
   "metadata": {
    "id": "epGXK2fvYko1"
   },
   "source": [
    "Loading the model and predicting"
   ]
  },
  {
   "cell_type": "code",
   "execution_count": 36,
   "metadata": {
    "id": "u-H1rET0PdEC"
   },
   "outputs": [],
   "source": [
    "#from tensorflow.keras import models\n",
    "#test_model = models.load_model('Churn_modelling.h5')\n",
    "#test_model.predict([])"
   ]
  }
 ],
 "metadata": {
  "colab": {
   "name": "Churn_Modelling using ANN.ipynb",
   "provenance": []
  },
  "kernelspec": {
   "display_name": "Python 3",
   "language": "python",
   "name": "python3"
  },
  "language_info": {
   "codemirror_mode": {
    "name": "ipython",
    "version": 3
   },
   "file_extension": ".py",
   "mimetype": "text/x-python",
   "name": "python",
   "nbconvert_exporter": "python",
   "pygments_lexer": "ipython3",
   "version": "3.7.1"
  }
 },
 "nbformat": 4,
 "nbformat_minor": 1
}
