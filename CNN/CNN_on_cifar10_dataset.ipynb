{
  "nbformat": 4,
  "nbformat_minor": 0,
  "metadata": {
    "colab": {
      "name": "CNN on cifar10 dataset.ipynb",
      "provenance": []
    },
    "kernelspec": {
      "name": "python3",
      "display_name": "Python 3"
    },
    "language_info": {
      "name": "python"
    },
    "accelerator": "GPU"
  },
  "cells": [
    {
      "cell_type": "code",
      "execution_count": 1,
      "metadata": {
        "colab": {
          "base_uri": "https://localhost:8080/"
        },
        "id": "YTXSbCRyKWWF",
        "outputId": "4631ac3e-8ad6-4327-d4f7-1caa68dcd320"
      },
      "outputs": [
        {
          "output_type": "stream",
          "name": "stdout",
          "text": [
            "Tue Jan  4 08:27:44 2022       \n",
            "+-----------------------------------------------------------------------------+\n",
            "| NVIDIA-SMI 495.44       Driver Version: 460.32.03    CUDA Version: 11.2     |\n",
            "|-------------------------------+----------------------+----------------------+\n",
            "| GPU  Name        Persistence-M| Bus-Id        Disp.A | Volatile Uncorr. ECC |\n",
            "| Fan  Temp  Perf  Pwr:Usage/Cap|         Memory-Usage | GPU-Util  Compute M. |\n",
            "|                               |                      |               MIG M. |\n",
            "|===============================+======================+======================|\n",
            "|   0  Tesla K80           Off  | 00000000:00:04.0 Off |                    0 |\n",
            "| N/A   68C    P8    34W / 149W |      0MiB / 11441MiB |      0%      Default |\n",
            "|                               |                      |                  N/A |\n",
            "+-------------------------------+----------------------+----------------------+\n",
            "                                                                               \n",
            "+-----------------------------------------------------------------------------+\n",
            "| Processes:                                                                  |\n",
            "|  GPU   GI   CI        PID   Type   Process name                  GPU Memory |\n",
            "|        ID   ID                                                   Usage      |\n",
            "|=============================================================================|\n",
            "|  No running processes found                                                 |\n",
            "+-----------------------------------------------------------------------------+\n"
          ]
        }
      ],
      "source": [
        "!nvidia-smi"
      ]
    },
    {
      "cell_type": "markdown",
      "source": [
        "importing libraries"
      ],
      "metadata": {
        "id": "LhIKS6KOLVEB"
      }
    },
    {
      "cell_type": "code",
      "source": [
        "import tensorflow as tf\n",
        "import numpy as np\n",
        "import pandas as pd\n",
        "from tensorflow.keras.datasets import cifar10\n",
        "import matplotlib.pyplot as plt\n",
        "from tensorflow.keras import Sequential\n",
        "from tensorflow.keras.layers import Conv2D,MaxPool2D,Flatten,Dense,Dropout"
      ],
      "metadata": {
        "id": "UZe3v5RNLQbL"
      },
      "execution_count": 20,
      "outputs": []
    },
    {
      "cell_type": "markdown",
      "source": [
        "load the dataset"
      ],
      "metadata": {
        "id": "B2T78UU6NL3y"
      }
    },
    {
      "cell_type": "code",
      "source": [
        "(x_train,y_train),(x_test,y_test) = cifar10.load_data()"
      ],
      "metadata": {
        "id": "Qf-hefgSMNUB",
        "colab": {
          "base_uri": "https://localhost:8080/"
        },
        "outputId": "76c7c98b-1d4c-4edb-9ffb-a67b6bd9bb5c"
      },
      "execution_count": 3,
      "outputs": [
        {
          "output_type": "stream",
          "name": "stdout",
          "text": [
            "Downloading data from https://www.cs.toronto.edu/~kriz/cifar-10-python.tar.gz\n",
            "170500096/170498071 [==============================] - 6s 0us/step\n",
            "170508288/170498071 [==============================] - 6s 0us/step\n"
          ]
        }
      ]
    },
    {
      "cell_type": "code",
      "source": [
        "x_train.shape"
      ],
      "metadata": {
        "colab": {
          "base_uri": "https://localhost:8080/"
        },
        "id": "dqf0cRhONdkM",
        "outputId": "7476a534-50a8-4d83-d92b-5c4fab2bea39"
      },
      "execution_count": 4,
      "outputs": [
        {
          "output_type": "execute_result",
          "data": {
            "text/plain": [
              "(50000, 32, 32, 3)"
            ]
          },
          "metadata": {},
          "execution_count": 4
        }
      ]
    },
    {
      "cell_type": "code",
      "source": [
        "y_train.shape"
      ],
      "metadata": {
        "colab": {
          "base_uri": "https://localhost:8080/"
        },
        "id": "JSuqwhQrNrBT",
        "outputId": "c1b7346e-04ad-4ba1-f5ed-ade60b23c365"
      },
      "execution_count": 5,
      "outputs": [
        {
          "output_type": "execute_result",
          "data": {
            "text/plain": [
              "(50000, 1)"
            ]
          },
          "metadata": {},
          "execution_count": 5
        }
      ]
    },
    {
      "cell_type": "code",
      "source": [
        "x_test.shape"
      ],
      "metadata": {
        "colab": {
          "base_uri": "https://localhost:8080/"
        },
        "id": "q73HmWHtNx4V",
        "outputId": "5cf55bd0-bb66-42e6-e4b4-1ba64c5c6e9f"
      },
      "execution_count": 6,
      "outputs": [
        {
          "output_type": "execute_result",
          "data": {
            "text/plain": [
              "(10000, 32, 32, 3)"
            ]
          },
          "metadata": {},
          "execution_count": 6
        }
      ]
    },
    {
      "cell_type": "code",
      "source": [
        "y_test.shape"
      ],
      "metadata": {
        "colab": {
          "base_uri": "https://localhost:8080/"
        },
        "id": "xBBlBzsIN072",
        "outputId": "a2e92f25-767b-4bfd-f7c9-5ed06509bbe8"
      },
      "execution_count": 7,
      "outputs": [
        {
          "output_type": "execute_result",
          "data": {
            "text/plain": [
              "(10000, 1)"
            ]
          },
          "metadata": {},
          "execution_count": 7
        }
      ]
    },
    {
      "cell_type": "markdown",
      "source": [
        "Naming all the classes"
      ],
      "metadata": {
        "id": "wiGqgHlDPI6I"
      }
    },
    {
      "cell_type": "code",
      "source": [
        "classes = ['aeroplane','automobile','bird','cat','deer','dog','frog','horse','ship','truck']"
      ],
      "metadata": {
        "id": "KQmXndHZN624"
      },
      "execution_count": 8,
      "outputs": []
    },
    {
      "cell_type": "code",
      "source": [
        "classes[y_train[20][0]]"
      ],
      "metadata": {
        "colab": {
          "base_uri": "https://localhost:8080/",
          "height": 35
        },
        "id": "lFw04VbYPbOi",
        "outputId": "c3b0aaeb-ab8e-4efc-a123-df4fcd0ed0d9"
      },
      "execution_count": 9,
      "outputs": [
        {
          "output_type": "execute_result",
          "data": {
            "application/vnd.google.colaboratory.intrinsic+json": {
              "type": "string"
            },
            "text/plain": [
              "'deer'"
            ]
          },
          "metadata": {},
          "execution_count": 9
        }
      ]
    },
    {
      "cell_type": "markdown",
      "source": [
        "Visualising the data"
      ],
      "metadata": {
        "id": "6vYJddikQz2p"
      }
    },
    {
      "cell_type": "code",
      "source": [
        "number = int(input(\"Enter the number\"))\n",
        "plt.imshow(x_train[number])\n",
        "print(classes[y_train[number][0]])"
      ],
      "metadata": {
        "colab": {
          "base_uri": "https://localhost:8080/",
          "height": 301
        },
        "id": "B6tybngKQpXw",
        "outputId": "4a065db1-2962-4b16-e9b2-0bad8c6e4947"
      },
      "execution_count": 10,
      "outputs": [
        {
          "output_type": "stream",
          "name": "stdout",
          "text": [
            "Enter the number65\n",
            "automobile\n"
          ]
        },
        {
          "output_type": "display_data",
          "data": {
            "image/png": "[encoded data removed]",
            "text/plain": [
              "<Figure size 432x288 with 1 Axes>"
            ]
          },
          "metadata": {
            "needs_background": "light"
          }
        }
      ]
    },
    {
      "cell_type": "markdown",
      "source": [
        "Normalizing the image"
      ],
      "metadata": {
        "id": "0MMPkbbjS6cc"
      }
    },
    {
      "cell_type": "code",
      "source": [
        "x_train , x_test = x_train/255 , x_test/255"
      ],
      "metadata": {
        "id": "vXYTEdElRfCq"
      },
      "execution_count": 11,
      "outputs": []
    },
    {
      "cell_type": "markdown",
      "source": [
        "Build the model"
      ],
      "metadata": {
        "id": "rj32lNeBTzhV"
      }
    },
    {
      "cell_type": "code",
      "source": [
        "model = Sequential()\n",
        "\n",
        "#1st convolution layer\n",
        "model.add(Conv2D(20,(3,3),activation='relu'))\n",
        "model.add(MaxPool2D())\n",
        "model.add(Dropout(0.2))\n",
        "\n",
        "#2nd convolution layer\n",
        "model.add(Conv2D(40,(3,3),activation='relu'))\n",
        "model.add(MaxPool2D())\n",
        "model.add(Dropout(0.2))\n",
        "\n",
        "#3rd convolution layer\n",
        "model.add(Conv2D(80,(3,3),activation='relu'))\n",
        "model.add(MaxPool2D())\n",
        "model.add(Dropout(0.2))\n",
        "\n",
        "#flatten the image\n",
        "model.add(Flatten())\n",
        "\n",
        "#create the ann\n",
        "model.add(Dense(100,activation='relu'))\n",
        "model.add(Dense(50,activation='sigmoid'))\n",
        "model.add(Dense(25,activation='relu'))\n",
        "model.add(Dense(10,activation='sigmoid'))"
      ],
      "metadata": {
        "id": "m4cknZ9dTM-1"
      },
      "execution_count": 26,
      "outputs": []
    },
    {
      "cell_type": "code",
      "source": [
        "model.compile(optimizer='adam',loss='sparse_categorical_crossentropy',metrics='sparse_categorical_accuracy')"
      ],
      "metadata": {
        "id": "1PAm0KB9ZUoP"
      },
      "execution_count": 27,
      "outputs": []
    },
    {
      "cell_type": "code",
      "source": [
        "model.fit(x_train,y_train,epochs=100,batch_size=32,validation_split=0.2)"
      ],
      "metadata": {
        "colab": {
          "base_uri": "https://localhost:8080/"
        },
        "id": "DcwLyXhTaYtV",
        "outputId": "5a7dd876-26a1-4dcb-b799-a8eae5912891"
      },
      "execution_count": 28,
      "outputs": [
        {
          "output_type": "stream",
          "name": "stdout",
          "text": [
            "Epoch 1/100\n",
            "1250/1250 [==============================] - 24s 18ms/step - loss: 1.8144 - sparse_categorical_accuracy: 0.3228 - val_loss: 1.5248 - val_sparse_categorical_accuracy: 0.4462\n",
            "Epoch 2/100\n",
            "1250/1250 [==============================] - 10s 8ms/step - loss: 1.4574 - sparse_categorical_accuracy: 0.4688 - val_loss: 1.3442 - val_sparse_categorical_accuracy: 0.5099\n",
            "Epoch 3/100\n",
            "1250/1250 [==============================] - 9s 7ms/step - loss: 1.3242 - sparse_categorical_accuracy: 0.5194 - val_loss: 1.2389 - val_sparse_categorical_accuracy: 0.5528\n",
            "Epoch 4/100\n",
            "1250/1250 [==============================] - 10s 8ms/step - loss: 1.2476 - sparse_categorical_accuracy: 0.5492 - val_loss: 1.1464 - val_sparse_categorical_accuracy: 0.5961\n",
            "Epoch 5/100\n",
            "1250/1250 [==============================] - 9s 7ms/step - loss: 1.1905 - sparse_categorical_accuracy: 0.5731 - val_loss: 1.1274 - val_sparse_categorical_accuracy: 0.6078\n",
            "Epoch 6/100\n",
            "1250/1250 [==============================] - 10s 8ms/step - loss: 1.1428 - sparse_categorical_accuracy: 0.5926 - val_loss: 1.0952 - val_sparse_categorical_accuracy: 0.6108\n",
            "Epoch 7/100\n",
            "1250/1250 [==============================] - 10s 8ms/step - loss: 1.1034 - sparse_categorical_accuracy: 0.6092 - val_loss: 1.0346 - val_sparse_categorical_accuracy: 0.6352\n",
            "Epoch 8/100\n",
            "1250/1250 [==============================] - 9s 8ms/step - loss: 1.0707 - sparse_categorical_accuracy: 0.6220 - val_loss: 1.0106 - val_sparse_categorical_accuracy: 0.6435\n",
            "Epoch 9/100\n",
            "1250/1250 [==============================] - 10s 8ms/step - loss: 1.0395 - sparse_categorical_accuracy: 0.6328 - val_loss: 0.9903 - val_sparse_categorical_accuracy: 0.6565\n",
            "Epoch 10/100\n",
            "1250/1250 [==============================] - 10s 8ms/step - loss: 1.0130 - sparse_categorical_accuracy: 0.6418 - val_loss: 0.9808 - val_sparse_categorical_accuracy: 0.6606\n",
            "Epoch 11/100\n",
            "1250/1250 [==============================] - 10s 8ms/step - loss: 0.9949 - sparse_categorical_accuracy: 0.6484 - val_loss: 0.9939 - val_sparse_categorical_accuracy: 0.6532\n",
            "Epoch 12/100\n",
            "1250/1250 [==============================] - 10s 8ms/step - loss: 0.9749 - sparse_categorical_accuracy: 0.6546 - val_loss: 0.9377 - val_sparse_categorical_accuracy: 0.6728\n",
            "Epoch 13/100\n",
            "1250/1250 [==============================] - 9s 8ms/step - loss: 0.9534 - sparse_categorical_accuracy: 0.6643 - val_loss: 0.9146 - val_sparse_categorical_accuracy: 0.6765\n",
            "Epoch 14/100\n",
            "1250/1250 [==============================] - 10s 8ms/step - loss: 0.9407 - sparse_categorical_accuracy: 0.6672 - val_loss: 0.9316 - val_sparse_categorical_accuracy: 0.6793\n",
            "Epoch 15/100\n",
            "1250/1250 [==============================] - 9s 8ms/step - loss: 0.9262 - sparse_categorical_accuracy: 0.6715 - val_loss: 0.8973 - val_sparse_categorical_accuracy: 0.6870\n",
            "Epoch 16/100\n",
            "1250/1250 [==============================] - 9s 8ms/step - loss: 0.9150 - sparse_categorical_accuracy: 0.6748 - val_loss: 0.8916 - val_sparse_categorical_accuracy: 0.6889\n",
            "Epoch 17/100\n",
            "1250/1250 [==============================] - 9s 8ms/step - loss: 0.9083 - sparse_categorical_accuracy: 0.6797 - val_loss: 0.8539 - val_sparse_categorical_accuracy: 0.7055\n",
            "Epoch 18/100\n",
            "1250/1250 [==============================] - 9s 8ms/step - loss: 0.8946 - sparse_categorical_accuracy: 0.6855 - val_loss: 0.8606 - val_sparse_categorical_accuracy: 0.7043\n",
            "Epoch 19/100\n",
            "1250/1250 [==============================] - 10s 8ms/step - loss: 0.8789 - sparse_categorical_accuracy: 0.6918 - val_loss: 0.8864 - val_sparse_categorical_accuracy: 0.6916\n",
            "Epoch 20/100\n",
            "1250/1250 [==============================] - 10s 8ms/step - loss: 0.8776 - sparse_categorical_accuracy: 0.6917 - val_loss: 0.8568 - val_sparse_categorical_accuracy: 0.7012\n",
            "Epoch 21/100\n",
            "1250/1250 [==============================] - 9s 8ms/step - loss: 0.8634 - sparse_categorical_accuracy: 0.6933 - val_loss: 0.8751 - val_sparse_categorical_accuracy: 0.7015\n",
            "Epoch 22/100\n",
            "1250/1250 [==============================] - 10s 8ms/step - loss: 0.8577 - sparse_categorical_accuracy: 0.7003 - val_loss: 0.8376 - val_sparse_categorical_accuracy: 0.7111\n",
            "Epoch 23/100\n",
            "1250/1250 [==============================] - 10s 8ms/step - loss: 0.8463 - sparse_categorical_accuracy: 0.7022 - val_loss: 0.8502 - val_sparse_categorical_accuracy: 0.7074\n",
            "Epoch 24/100\n",
            "1250/1250 [==============================] - 10s 8ms/step - loss: 0.8342 - sparse_categorical_accuracy: 0.7061 - val_loss: 0.8465 - val_sparse_categorical_accuracy: 0.7031\n",
            "Epoch 25/100\n",
            "1250/1250 [==============================] - 10s 8ms/step - loss: 0.8284 - sparse_categorical_accuracy: 0.7097 - val_loss: 0.8484 - val_sparse_categorical_accuracy: 0.7113\n",
            "Epoch 26/100\n",
            "1250/1250 [==============================] - 9s 8ms/step - loss: 0.8262 - sparse_categorical_accuracy: 0.7104 - val_loss: 0.8826 - val_sparse_categorical_accuracy: 0.6920\n",
            "Epoch 27/100\n",
            "1250/1250 [==============================] - 10s 8ms/step - loss: 0.8161 - sparse_categorical_accuracy: 0.7106 - val_loss: 0.8461 - val_sparse_categorical_accuracy: 0.7071\n",
            "Epoch 28/100\n",
            "1250/1250 [==============================] - 10s 8ms/step - loss: 0.8096 - sparse_categorical_accuracy: 0.7152 - val_loss: 0.7927 - val_sparse_categorical_accuracy: 0.7306\n",
            "Epoch 29/100\n",
            "1250/1250 [==============================] - 9s 8ms/step - loss: 0.8025 - sparse_categorical_accuracy: 0.7176 - val_loss: 0.7935 - val_sparse_categorical_accuracy: 0.7294\n",
            "Epoch 30/100\n",
            "1250/1250 [==============================] - 9s 8ms/step - loss: 0.7991 - sparse_categorical_accuracy: 0.7183 - val_loss: 0.7986 - val_sparse_categorical_accuracy: 0.7227\n",
            "Epoch 31/100\n",
            "1250/1250 [==============================] - 9s 8ms/step - loss: 0.7858 - sparse_categorical_accuracy: 0.7253 - val_loss: 0.8209 - val_sparse_categorical_accuracy: 0.7201\n",
            "Epoch 32/100\n",
            "1250/1250 [==============================] - 10s 8ms/step - loss: 0.7879 - sparse_categorical_accuracy: 0.7243 - val_loss: 0.8167 - val_sparse_categorical_accuracy: 0.7168\n",
            "Epoch 33/100\n",
            "1250/1250 [==============================] - 10s 8ms/step - loss: 0.7833 - sparse_categorical_accuracy: 0.7234 - val_loss: 0.7950 - val_sparse_categorical_accuracy: 0.7261\n",
            "Epoch 34/100\n",
            "1250/1250 [==============================] - 9s 8ms/step - loss: 0.7799 - sparse_categorical_accuracy: 0.7253 - val_loss: 0.7901 - val_sparse_categorical_accuracy: 0.7291\n",
            "Epoch 35/100\n",
            "1250/1250 [==============================] - 10s 8ms/step - loss: 0.7765 - sparse_categorical_accuracy: 0.7274 - val_loss: 0.7881 - val_sparse_categorical_accuracy: 0.7299\n",
            "Epoch 36/100\n",
            "1250/1250 [==============================] - 10s 8ms/step - loss: 0.7670 - sparse_categorical_accuracy: 0.7317 - val_loss: 0.8240 - val_sparse_categorical_accuracy: 0.7179\n",
            "Epoch 37/100\n",
            "1250/1250 [==============================] - 9s 8ms/step - loss: 0.7634 - sparse_categorical_accuracy: 0.7313 - val_loss: 0.8221 - val_sparse_categorical_accuracy: 0.7205\n",
            "Epoch 38/100\n",
            "1250/1250 [==============================] - 10s 8ms/step - loss: 0.7633 - sparse_categorical_accuracy: 0.7319 - val_loss: 0.7645 - val_sparse_categorical_accuracy: 0.7400\n",
            "Epoch 39/100\n",
            "1250/1250 [==============================] - 9s 8ms/step - loss: 0.7591 - sparse_categorical_accuracy: 0.7335 - val_loss: 0.7689 - val_sparse_categorical_accuracy: 0.7366\n",
            "Epoch 40/100\n",
            "1250/1250 [==============================] - 10s 8ms/step - loss: 0.7518 - sparse_categorical_accuracy: 0.7374 - val_loss: 0.7699 - val_sparse_categorical_accuracy: 0.7377\n",
            "Epoch 41/100\n",
            "1250/1250 [==============================] - 9s 8ms/step - loss: 0.7486 - sparse_categorical_accuracy: 0.7392 - val_loss: 0.7654 - val_sparse_categorical_accuracy: 0.7376\n",
            "Epoch 42/100\n",
            "1250/1250 [==============================] - 10s 8ms/step - loss: 0.7500 - sparse_categorical_accuracy: 0.7377 - val_loss: 0.7935 - val_sparse_categorical_accuracy: 0.7295\n",
            "Epoch 43/100\n",
            "1250/1250 [==============================] - 10s 8ms/step - loss: 0.7466 - sparse_categorical_accuracy: 0.7391 - val_loss: 0.8257 - val_sparse_categorical_accuracy: 0.7208\n",
            "Epoch 44/100\n",
            "1250/1250 [==============================] - 10s 8ms/step - loss: 0.7373 - sparse_categorical_accuracy: 0.7421 - val_loss: 0.7906 - val_sparse_categorical_accuracy: 0.7285\n",
            "Epoch 45/100\n",
            "1250/1250 [==============================] - 9s 8ms/step - loss: 0.7386 - sparse_categorical_accuracy: 0.7393 - val_loss: 0.8137 - val_sparse_categorical_accuracy: 0.7289\n",
            "Epoch 46/100\n",
            "1250/1250 [==============================] - 10s 8ms/step - loss: 0.7320 - sparse_categorical_accuracy: 0.7432 - val_loss: 0.8129 - val_sparse_categorical_accuracy: 0.7247\n",
            "Epoch 47/100\n",
            "1250/1250 [==============================] - 10s 8ms/step - loss: 0.7369 - sparse_categorical_accuracy: 0.7410 - val_loss: 0.8030 - val_sparse_categorical_accuracy: 0.7302\n",
            "Epoch 48/100\n",
            "1250/1250 [==============================] - 10s 8ms/step - loss: 0.7339 - sparse_categorical_accuracy: 0.7414 - val_loss: 0.7638 - val_sparse_categorical_accuracy: 0.7420\n",
            "Epoch 49/100\n",
            "1250/1250 [==============================] - 10s 8ms/step - loss: 0.7300 - sparse_categorical_accuracy: 0.7431 - val_loss: 0.7599 - val_sparse_categorical_accuracy: 0.7423\n",
            "Epoch 50/100\n",
            "1250/1250 [==============================] - 10s 8ms/step - loss: 0.7254 - sparse_categorical_accuracy: 0.7450 - val_loss: 0.7727 - val_sparse_categorical_accuracy: 0.7399\n",
            "Epoch 51/100\n",
            "1250/1250 [==============================] - 9s 8ms/step - loss: 0.7248 - sparse_categorical_accuracy: 0.7475 - val_loss: 0.8037 - val_sparse_categorical_accuracy: 0.7302\n",
            "Epoch 52/100\n",
            "1250/1250 [==============================] - 10s 8ms/step - loss: 0.7224 - sparse_categorical_accuracy: 0.7454 - val_loss: 0.7823 - val_sparse_categorical_accuracy: 0.7326\n",
            "Epoch 53/100\n",
            "1250/1250 [==============================] - 10s 8ms/step - loss: 0.7216 - sparse_categorical_accuracy: 0.7490 - val_loss: 0.7894 - val_sparse_categorical_accuracy: 0.7386\n",
            "Epoch 54/100\n",
            "1250/1250 [==============================] - 10s 8ms/step - loss: 0.7190 - sparse_categorical_accuracy: 0.7480 - val_loss: 0.7793 - val_sparse_categorical_accuracy: 0.7428\n",
            "Epoch 55/100\n",
            "1250/1250 [==============================] - 10s 8ms/step - loss: 0.7094 - sparse_categorical_accuracy: 0.7526 - val_loss: 0.7708 - val_sparse_categorical_accuracy: 0.7408\n",
            "Epoch 56/100\n",
            "1250/1250 [==============================] - 10s 8ms/step - loss: 0.7186 - sparse_categorical_accuracy: 0.7498 - val_loss: 0.8088 - val_sparse_categorical_accuracy: 0.7276\n",
            "Epoch 57/100\n",
            "1250/1250 [==============================] - 10s 8ms/step - loss: 0.7126 - sparse_categorical_accuracy: 0.7505 - val_loss: 0.7812 - val_sparse_categorical_accuracy: 0.7357\n",
            "Epoch 58/100\n",
            "1250/1250 [==============================] - 10s 8ms/step - loss: 0.7080 - sparse_categorical_accuracy: 0.7524 - val_loss: 0.7660 - val_sparse_categorical_accuracy: 0.7403\n",
            "Epoch 59/100\n",
            "1250/1250 [==============================] - 9s 8ms/step - loss: 0.7039 - sparse_categorical_accuracy: 0.7528 - val_loss: 0.8046 - val_sparse_categorical_accuracy: 0.7290\n",
            "Epoch 60/100\n",
            "1250/1250 [==============================] - 10s 8ms/step - loss: 0.7044 - sparse_categorical_accuracy: 0.7524 - val_loss: 0.7520 - val_sparse_categorical_accuracy: 0.7442\n",
            "Epoch 61/100\n",
            "1250/1250 [==============================] - 10s 8ms/step - loss: 0.7106 - sparse_categorical_accuracy: 0.7535 - val_loss: 0.7698 - val_sparse_categorical_accuracy: 0.7416\n",
            "Epoch 62/100\n",
            "1250/1250 [==============================] - 10s 8ms/step - loss: 0.7020 - sparse_categorical_accuracy: 0.7551 - val_loss: 0.7454 - val_sparse_categorical_accuracy: 0.7515\n",
            "Epoch 63/100\n",
            "1250/1250 [==============================] - 10s 8ms/step - loss: 0.7088 - sparse_categorical_accuracy: 0.7513 - val_loss: 0.7725 - val_sparse_categorical_accuracy: 0.7406\n",
            "Epoch 64/100\n",
            "1250/1250 [==============================] - 10s 8ms/step - loss: 0.6988 - sparse_categorical_accuracy: 0.7565 - val_loss: 0.7640 - val_sparse_categorical_accuracy: 0.7364\n",
            "Epoch 65/100\n",
            "1250/1250 [==============================] - 10s 8ms/step - loss: 0.7037 - sparse_categorical_accuracy: 0.7552 - val_loss: 0.7654 - val_sparse_categorical_accuracy: 0.7433\n",
            "Epoch 66/100\n",
            "1250/1250 [==============================] - 10s 8ms/step - loss: 0.7047 - sparse_categorical_accuracy: 0.7564 - val_loss: 0.7769 - val_sparse_categorical_accuracy: 0.7419\n",
            "Epoch 67/100\n",
            "1250/1250 [==============================] - 10s 8ms/step - loss: 0.7008 - sparse_categorical_accuracy: 0.7545 - val_loss: 0.7713 - val_sparse_categorical_accuracy: 0.7427\n",
            "Epoch 68/100\n",
            "1250/1250 [==============================] - 10s 8ms/step - loss: 0.6984 - sparse_categorical_accuracy: 0.7576 - val_loss: 0.7609 - val_sparse_categorical_accuracy: 0.7466\n",
            "Epoch 69/100\n",
            "1250/1250 [==============================] - 10s 8ms/step - loss: 0.6939 - sparse_categorical_accuracy: 0.7584 - val_loss: 0.7770 - val_sparse_categorical_accuracy: 0.7360\n",
            "Epoch 70/100\n",
            "1250/1250 [==============================] - 10s 8ms/step - loss: 0.6915 - sparse_categorical_accuracy: 0.7579 - val_loss: 0.7557 - val_sparse_categorical_accuracy: 0.7446\n",
            "Epoch 71/100\n",
            "1250/1250 [==============================] - 10s 8ms/step - loss: 0.6936 - sparse_categorical_accuracy: 0.7589 - val_loss: 0.7607 - val_sparse_categorical_accuracy: 0.7434\n",
            "Epoch 72/100\n",
            "1250/1250 [==============================] - 10s 8ms/step - loss: 0.6876 - sparse_categorical_accuracy: 0.7604 - val_loss: 0.7775 - val_sparse_categorical_accuracy: 0.7409\n",
            "Epoch 73/100\n",
            "1250/1250 [==============================] - 10s 8ms/step - loss: 0.6881 - sparse_categorical_accuracy: 0.7602 - val_loss: 0.7774 - val_sparse_categorical_accuracy: 0.7413\n",
            "Epoch 74/100\n",
            "1250/1250 [==============================] - 10s 8ms/step - loss: 0.6883 - sparse_categorical_accuracy: 0.7605 - val_loss: 0.7527 - val_sparse_categorical_accuracy: 0.7477\n",
            "Epoch 75/100\n",
            "1250/1250 [==============================] - 10s 8ms/step - loss: 0.6861 - sparse_categorical_accuracy: 0.7620 - val_loss: 0.7561 - val_sparse_categorical_accuracy: 0.7436\n",
            "Epoch 76/100\n",
            "1250/1250 [==============================] - 10s 8ms/step - loss: 0.6874 - sparse_categorical_accuracy: 0.7607 - val_loss: 0.7499 - val_sparse_categorical_accuracy: 0.7477\n",
            "Epoch 77/100\n",
            "1250/1250 [==============================] - 10s 8ms/step - loss: 0.6887 - sparse_categorical_accuracy: 0.7613 - val_loss: 0.7489 - val_sparse_categorical_accuracy: 0.7480\n",
            "Epoch 78/100\n",
            "1250/1250 [==============================] - 10s 8ms/step - loss: 0.6842 - sparse_categorical_accuracy: 0.7619 - val_loss: 0.7692 - val_sparse_categorical_accuracy: 0.7447\n",
            "Epoch 79/100\n",
            "1250/1250 [==============================] - 10s 8ms/step - loss: 0.6874 - sparse_categorical_accuracy: 0.7590 - val_loss: 0.7761 - val_sparse_categorical_accuracy: 0.7389\n",
            "Epoch 80/100\n",
            "1250/1250 [==============================] - 10s 8ms/step - loss: 0.6863 - sparse_categorical_accuracy: 0.7611 - val_loss: 0.7426 - val_sparse_categorical_accuracy: 0.7500\n",
            "Epoch 81/100\n",
            "1250/1250 [==============================] - 10s 8ms/step - loss: 0.6853 - sparse_categorical_accuracy: 0.7610 - val_loss: 0.7670 - val_sparse_categorical_accuracy: 0.7416\n",
            "Epoch 82/100\n",
            "1250/1250 [==============================] - 10s 8ms/step - loss: 0.6816 - sparse_categorical_accuracy: 0.7625 - val_loss: 0.7805 - val_sparse_categorical_accuracy: 0.7399\n",
            "Epoch 83/100\n",
            "1250/1250 [==============================] - 10s 8ms/step - loss: 0.6874 - sparse_categorical_accuracy: 0.7594 - val_loss: 0.7772 - val_sparse_categorical_accuracy: 0.7362\n",
            "Epoch 84/100\n",
            "1250/1250 [==============================] - 10s 8ms/step - loss: 0.6840 - sparse_categorical_accuracy: 0.7600 - val_loss: 0.7475 - val_sparse_categorical_accuracy: 0.7506\n",
            "Epoch 85/100\n",
            "1250/1250 [==============================] - 10s 8ms/step - loss: 0.6849 - sparse_categorical_accuracy: 0.7603 - val_loss: 0.7734 - val_sparse_categorical_accuracy: 0.7369\n",
            "Epoch 86/100\n",
            "1250/1250 [==============================] - 10s 8ms/step - loss: 0.6722 - sparse_categorical_accuracy: 0.7662 - val_loss: 0.7539 - val_sparse_categorical_accuracy: 0.7474\n",
            "Epoch 87/100\n",
            "1250/1250 [==============================] - 10s 8ms/step - loss: 0.6816 - sparse_categorical_accuracy: 0.7625 - val_loss: 0.7833 - val_sparse_categorical_accuracy: 0.7386\n",
            "Epoch 88/100\n",
            "1250/1250 [==============================] - 10s 8ms/step - loss: 0.6770 - sparse_categorical_accuracy: 0.7642 - val_loss: 0.7525 - val_sparse_categorical_accuracy: 0.7500\n",
            "Epoch 89/100\n",
            "1250/1250 [==============================] - 10s 8ms/step - loss: 0.6847 - sparse_categorical_accuracy: 0.7610 - val_loss: 0.7786 - val_sparse_categorical_accuracy: 0.7415\n",
            "Epoch 90/100\n",
            "1250/1250 [==============================] - 10s 8ms/step - loss: 0.6799 - sparse_categorical_accuracy: 0.7632 - val_loss: 0.7897 - val_sparse_categorical_accuracy: 0.7337\n",
            "Epoch 91/100\n",
            "1250/1250 [==============================] - 10s 8ms/step - loss: 0.6801 - sparse_categorical_accuracy: 0.7629 - val_loss: 0.7554 - val_sparse_categorical_accuracy: 0.7477\n",
            "Epoch 92/100\n",
            "1250/1250 [==============================] - 10s 8ms/step - loss: 0.6871 - sparse_categorical_accuracy: 0.7617 - val_loss: 0.7599 - val_sparse_categorical_accuracy: 0.7462\n",
            "Epoch 93/100\n",
            "1250/1250 [==============================] - 10s 8ms/step - loss: 0.6752 - sparse_categorical_accuracy: 0.7637 - val_loss: 0.7597 - val_sparse_categorical_accuracy: 0.7501\n",
            "Epoch 94/100\n",
            "1250/1250 [==============================] - 10s 8ms/step - loss: 0.6823 - sparse_categorical_accuracy: 0.7654 - val_loss: 0.8056 - val_sparse_categorical_accuracy: 0.7337\n",
            "Epoch 95/100\n",
            "1250/1250 [==============================] - 10s 8ms/step - loss: 0.6745 - sparse_categorical_accuracy: 0.7663 - val_loss: 0.7523 - val_sparse_categorical_accuracy: 0.7483\n",
            "Epoch 96/100\n",
            "1250/1250 [==============================] - 10s 8ms/step - loss: 0.6741 - sparse_categorical_accuracy: 0.7664 - val_loss: 0.7546 - val_sparse_categorical_accuracy: 0.7475\n",
            "Epoch 97/100\n",
            "1250/1250 [==============================] - 10s 8ms/step - loss: 0.6767 - sparse_categorical_accuracy: 0.7639 - val_loss: 0.7595 - val_sparse_categorical_accuracy: 0.7495\n",
            "Epoch 98/100\n",
            "1250/1250 [==============================] - 10s 8ms/step - loss: 0.6725 - sparse_categorical_accuracy: 0.7698 - val_loss: 0.7822 - val_sparse_categorical_accuracy: 0.7425\n",
            "Epoch 99/100\n",
            "1250/1250 [==============================] - 10s 8ms/step - loss: 0.6728 - sparse_categorical_accuracy: 0.7668 - val_loss: 0.7466 - val_sparse_categorical_accuracy: 0.7509\n",
            "Epoch 100/100\n",
            "1250/1250 [==============================] - 10s 8ms/step - loss: 0.6782 - sparse_categorical_accuracy: 0.7642 - val_loss: 0.7560 - val_sparse_categorical_accuracy: 0.7492\n"
          ]
        },
        {
          "output_type": "execute_result",
          "data": {
            "text/plain": [
              "<keras.callbacks.History at 0x7f0b1ebce8d0>"
            ]
          },
          "metadata": {},
          "execution_count": 28
        }
      ]
    },
    {
      "cell_type": "code",
      "source": [
        "model.save('cifar_10.h5')"
      ],
      "metadata": {
        "id": "RmBzuEMVa1eg"
      },
      "execution_count": 29,
      "outputs": []
    },
    {
      "cell_type": "markdown",
      "source": [
        "Evaluating the model"
      ],
      "metadata": {
        "id": "wKy3t-aXRHLK"
      }
    },
    {
      "cell_type": "code",
      "source": [
        "model.evaluate(x_test,y_test)"
      ],
      "metadata": {
        "colab": {
          "base_uri": "https://localhost:8080/"
        },
        "id": "chfoHml2PqX6",
        "outputId": "0ff1a0ca-9ebe-4992-ee2b-93a298565816"
      },
      "execution_count": 30,
      "outputs": [
        {
          "output_type": "stream",
          "name": "stdout",
          "text": [
            "313/313 [==============================] - 1s 4ms/step - loss: 0.7729 - sparse_categorical_accuracy: 0.7430\n"
          ]
        },
        {
          "output_type": "execute_result",
          "data": {
            "text/plain": [
              "[0.7729449272155762, 0.7429999709129333]"
            ]
          },
          "metadata": {},
          "execution_count": 30
        }
      ]
    },
    {
      "cell_type": "markdown",
      "source": [
        "Prediction"
      ],
      "metadata": {
        "id": "djPyjO56a57F"
      }
    },
    {
      "cell_type": "code",
      "source": [
        "y_pred = model.predict(x_test)"
      ],
      "metadata": {
        "id": "tVBpxt-mRP8v"
      },
      "execution_count": 31,
      "outputs": []
    },
    {
      "cell_type": "markdown",
      "source": [
        "predicting the test data"
      ],
      "metadata": {
        "id": "YvKfZeQ3a8M3"
      }
    },
    {
      "cell_type": "code",
      "source": [
        "classes[y_pred[10].argmax(axis=0)]"
      ],
      "metadata": {
        "colab": {
          "base_uri": "https://localhost:8080/",
          "height": 35
        },
        "id": "XDqQX-xuZc4C",
        "outputId": "d49ecc36-34c8-4f2e-e2da-a4b1a1b2dcfa"
      },
      "execution_count": 37,
      "outputs": [
        {
          "output_type": "execute_result",
          "data": {
            "application/vnd.google.colaboratory.intrinsic+json": {
              "type": "string"
            },
            "text/plain": [
              "'aeroplane'"
            ]
          },
          "metadata": {},
          "execution_count": 37
        }
      ]
    },
    {
      "cell_type": "markdown",
      "source": [
        "actual output"
      ],
      "metadata": {
        "id": "RxjAQgJDbAmY"
      }
    },
    {
      "cell_type": "code",
      "source": [
        "classes[y_test[10].argmax(axis=0)]"
      ],
      "metadata": {
        "colab": {
          "base_uri": "https://localhost:8080/",
          "height": 35
        },
        "id": "QI09aKt7ZgjB",
        "outputId": "5684a0d5-2bb6-4ff9-a10c-5983a6f67d7a"
      },
      "execution_count": 38,
      "outputs": [
        {
          "output_type": "execute_result",
          "data": {
            "application/vnd.google.colaboratory.intrinsic+json": {
              "type": "string"
            },
            "text/plain": [
              "'aeroplane'"
            ]
          },
          "metadata": {},
          "execution_count": 38
        }
      ]
    },
    {
      "cell_type": "code",
      "source": [
        ""
      ],
      "metadata": {
        "id": "HBKZ5kRLavI0"
      },
      "execution_count": null,
      "outputs": []
    }
  ]
}